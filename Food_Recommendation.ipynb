{
 "cells": [
  {
   "cell_type": "code",
   "execution_count": 1,
   "id": "d81f7e3f",
   "metadata": {},
   "outputs": [],
   "source": [
    "import pandas as pd\n",
    "import numpy as np"
   ]
  },
  {
   "cell_type": "code",
   "execution_count": 2,
   "id": "9d283ebd",
   "metadata": {},
   "outputs": [],
   "source": [
    "food = pd.read_csv(\"/Users/anjali6810/Desktop/Food_Menu.csv\", encoding = 'utf8')"
   ]
  },
  {
   "cell_type": "code",
   "execution_count": 3,
   "id": "4714a013",
   "metadata": {},
   "outputs": [],
   "source": [
    "food_list = food.Food_Name"
   ]
  },
  {
   "cell_type": "code",
   "execution_count": 4,
   "id": "8a5cb8f6",
   "metadata": {},
   "outputs": [
    {
     "data": {
      "text/html": [
       "<div>\n",
       "<style scoped>\n",
       "    .dataframe tbody tr th:only-of-type {\n",
       "        vertical-align: middle;\n",
       "    }\n",
       "\n",
       "    .dataframe tbody tr th {\n",
       "        vertical-align: top;\n",
       "    }\n",
       "\n",
       "    .dataframe thead th {\n",
       "        text-align: right;\n",
       "    }\n",
       "</style>\n",
       "<table border=\"1\" class=\"dataframe\">\n",
       "  <thead>\n",
       "    <tr style=\"text-align: right;\">\n",
       "      <th></th>\n",
       "      <th>S_No</th>\n",
       "      <th>Food_Name</th>\n",
       "      <th>Ingredients</th>\n",
       "      <th>Veg/Non-veg</th>\n",
       "      <th>Course</th>\n",
       "    </tr>\n",
       "  </thead>\n",
       "  <tbody>\n",
       "    <tr>\n",
       "      <th>0</th>\n",
       "      <td>1</td>\n",
       "      <td>Poha</td>\n",
       "      <td>Beaten rice flakes, potato, curry leaves, gree...</td>\n",
       "      <td>vegetarian</td>\n",
       "      <td>snack</td>\n",
       "    </tr>\n",
       "    <tr>\n",
       "      <th>1</th>\n",
       "      <td>2</td>\n",
       "      <td>Fara</td>\n",
       "      <td>Chana dal, whole wheat flour, arhar dal, white...</td>\n",
       "      <td>vegetarian</td>\n",
       "      <td>snack</td>\n",
       "    </tr>\n",
       "    <tr>\n",
       "      <th>2</th>\n",
       "      <td>3</td>\n",
       "      <td>Kachori</td>\n",
       "      <td>Moong dal, rava, garam masala, dough, fennel s...</td>\n",
       "      <td>vegetarian</td>\n",
       "      <td>snack</td>\n",
       "    </tr>\n",
       "    <tr>\n",
       "      <th>3</th>\n",
       "      <td>4</td>\n",
       "      <td>Pani puri</td>\n",
       "      <td>Kala chana, mashed potato, boondi, sev, lemon</td>\n",
       "      <td>vegetarian</td>\n",
       "      <td>snack</td>\n",
       "    </tr>\n",
       "    <tr>\n",
       "      <th>4</th>\n",
       "      <td>5</td>\n",
       "      <td>Papad</td>\n",
       "      <td>Urad dal, sev, lemon juice, chopped tomatoes</td>\n",
       "      <td>vegetarian</td>\n",
       "      <td>snack</td>\n",
       "    </tr>\n",
       "  </tbody>\n",
       "</table>\n",
       "</div>"
      ],
      "text/plain": [
       "   S_No  Food_Name                                        Ingredients  \\\n",
       "0     1       Poha  Beaten rice flakes, potato, curry leaves, gree...   \n",
       "1     2       Fara  Chana dal, whole wheat flour, arhar dal, white...   \n",
       "2     3    Kachori  Moong dal, rava, garam masala, dough, fennel s...   \n",
       "3     4  Pani puri      Kala chana, mashed potato, boondi, sev, lemon   \n",
       "4     5      Papad       Urad dal, sev, lemon juice, chopped tomatoes   \n",
       "\n",
       "  Veg/Non-veg Course  \n",
       "0  vegetarian  snack  \n",
       "1  vegetarian  snack  \n",
       "2  vegetarian  snack  \n",
       "3  vegetarian  snack  \n",
       "4  vegetarian  snack  "
      ]
     },
     "execution_count": 4,
     "metadata": {},
     "output_type": "execute_result"
    }
   ],
   "source": [
    "food.head()"
   ]
  },
  {
   "cell_type": "code",
   "execution_count": 5,
   "id": "7aa15644",
   "metadata": {},
   "outputs": [
    {
     "name": "stdout",
     "output_type": "stream",
     "text": [
      "<class 'pandas.core.frame.DataFrame'>\n",
      "RangeIndex: 316 entries, 0 to 315\n",
      "Data columns (total 5 columns):\n",
      " #   Column       Non-Null Count  Dtype \n",
      "---  ------       --------------  ----- \n",
      " 0   S_No         316 non-null    int64 \n",
      " 1   Food_Name    316 non-null    object\n",
      " 2   Ingredients  316 non-null    object\n",
      " 3   Veg/Non-veg  316 non-null    object\n",
      " 4   Course       316 non-null    object\n",
      "dtypes: int64(1), object(4)\n",
      "memory usage: 12.5+ KB\n"
     ]
    }
   ],
   "source": [
    "food.info()"
   ]
  },
  {
   "cell_type": "code",
   "execution_count": 6,
   "id": "02fefae6",
   "metadata": {},
   "outputs": [
    {
     "data": {
      "text/plain": [
       "S_No           0\n",
       "Food_Name      0\n",
       "Ingredients    0\n",
       "Veg/Non-veg    0\n",
       "Course         0\n",
       "dtype: int64"
      ]
     },
     "execution_count": 6,
     "metadata": {},
     "output_type": "execute_result"
    }
   ],
   "source": [
    "food.isnull().sum()"
   ]
  },
  {
   "cell_type": "code",
   "execution_count": 7,
   "id": "cb66d592",
   "metadata": {},
   "outputs": [
    {
     "data": {
      "text/plain": [
       "(316, 334)"
      ]
     },
     "execution_count": 7,
     "metadata": {},
     "output_type": "execute_result"
    }
   ],
   "source": [
    "from sklearn.feature_extraction.text import TfidfVectorizer \n",
    "tfidf = TfidfVectorizer(stop_words = \"english\")\n",
    "\n",
    "tfidf_matrix = tfidf.fit_transform(food.Ingredients)\n",
    "tfidf_matrix.shape"
   ]
  },
  {
   "cell_type": "code",
   "execution_count": 8,
   "id": "34b717d0",
   "metadata": {},
   "outputs": [],
   "source": [
    "from sklearn.metrics.pairwise import linear_kernel\n",
    "cosine_sim_matrix = linear_kernel(tfidf_matrix, tfidf_matrix)"
   ]
  },
  {
   "cell_type": "code",
   "execution_count": 9,
   "id": "5e97cd30",
   "metadata": {},
   "outputs": [
    {
     "data": {
      "text/plain": [
       "18"
      ]
     },
     "execution_count": 9,
     "metadata": {},
     "output_type": "execute_result"
    }
   ],
   "source": [
    "food_index = pd.Series(food.index, index = food['Food_Name']).drop_duplicates()\n",
    "food_index\n",
    "food_id = food_index[\"Masala Dosa\"]\n",
    "food_id"
   ]
  },
  {
   "cell_type": "code",
   "execution_count": 10,
   "id": "f55ca343",
   "metadata": {},
   "outputs": [],
   "source": [
    "def get_recommendations(Food, topN):    \n",
    "    food_id = food_index[Food]\n",
    "    cosine_scores = list(enumerate(cosine_sim_matrix[food_id]))\n",
    "    cosine_scores = sorted(cosine_scores, key=lambda x:x[1], reverse = True)\n",
    "    cosine_scores_N = cosine_scores[0: topN+1]\n",
    "    \n",
    "    food_idx  =  [i[0] for i in cosine_scores_N]\n",
    "    food_scores =  [i[1] for i in cosine_scores_N]\n",
    "\n",
    "    food_similar_show = pd.DataFrame(columns=[\"Food_Name\", \"Score\"])\n",
    "    food_similar_show[\"Food_Name\"] = food.loc[food_idx, \"Food_Name\"]\n",
    "    food_similar_show[\"Score\"] = food_scores\n",
    "    food_similar_show.reset_index(inplace = True)  \n",
    "    print (food_similar_show)"
   ]
  },
  {
   "cell_type": "code",
   "execution_count": 11,
   "id": "6d2707c5",
   "metadata": {},
   "outputs": [
    {
     "name": "stdout",
     "output_type": "stream",
     "text": [
      "    index           Food_Name     Score\n",
      "0      12                Dosa  1.000000\n",
      "1      13           Neer dosa  0.960567\n",
      "2      15                Idli  0.708944\n",
      "3     125             Poriyal  0.578623\n",
      "4      29             Uttapam  0.578165\n",
      "5      18         Masala Dosa  0.571078\n",
      "6      22  Mysore Masala Dosa  0.571078\n",
      "7      31                Upma  0.567222\n",
      "8     113        Keerai kootu  0.565888\n",
      "9     117               Kootu  0.549945\n",
      "10     20  Cheese Masala Dosa  0.548457\n"
     ]
    }
   ],
   "source": [
    "get_recommendations(\"Dosa\", topN = 10)"
   ]
  },
  {
   "cell_type": "code",
   "execution_count": 12,
   "id": "d6457a4d",
   "metadata": {},
   "outputs": [],
   "source": [
    "import pickle\n",
    "\n",
    "pickle.dump(food_list,open('food_list.pkl','wb'))\n",
    "pickle.dump(cosine_sim_matrix,open('similarity.pkl','wb'))"
   ]
  },
  {
   "cell_type": "code",
   "execution_count": null,
   "id": "af2a3d16",
   "metadata": {},
   "outputs": [],
   "source": []
  }
 ],
 "metadata": {
  "kernelspec": {
   "display_name": "Python 3 (ipykernel)",
   "language": "python",
   "name": "python3"
  },
  "language_info": {
   "codemirror_mode": {
    "name": "ipython",
    "version": 3
   },
   "file_extension": ".py",
   "mimetype": "text/x-python",
   "name": "python",
   "nbconvert_exporter": "python",
   "pygments_lexer": "ipython3",
   "version": "3.9.12"
  }
 },
 "nbformat": 4,
 "nbformat_minor": 5
}
